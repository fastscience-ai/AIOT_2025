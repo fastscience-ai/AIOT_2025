{
 "cells": [
  {
   "cell_type": "code",
   "execution_count": null,
   "id": "f7866a2e-386a-4359-b969-18980ef307a2",
   "metadata": {},
   "outputs": [],
   "source": [
    "import tensorflow as tf\n",
    "print(tf.__version__)"
   ]
  },
  {
   "cell_type": "code",
   "execution_count": null,
   "id": "9b83aa2c-4131-4c87-bb8d-54730179e63e",
   "metadata": {},
   "outputs": [],
   "source": [
    "x=tf.constant(1)"
   ]
  },
  {
   "cell_type": "code",
   "execution_count": null,
   "id": "eddcc61e-daa8-4419-a8a0-b2b8f1e01ead",
   "metadata": {},
   "outputs": [],
   "source": [
    "y=tf.constant(2)\n"
   ]
  },
  {
   "cell_type": "code",
   "execution_count": null,
   "id": "014f93fe-9e8e-4d47-8742-5b0343f7311b",
   "metadata": {},
   "outputs": [],
   "source": [
    "z=x+y"
   ]
  },
  {
   "cell_type": "code",
   "execution_count": null,
   "id": "c4cefb23-15a1-4f54-bcc6-324eb353ed4c",
   "metadata": {},
   "outputs": [],
   "source": [
    "print(z)"
   ]
  },
  {
   "cell_type": "code",
   "execution_count": null,
   "id": "5dfa66dc-488d-42ba-b247-03faaee1301e",
   "metadata": {},
   "outputs": [],
   "source": []
  }
 ],
 "metadata": {
  "kernelspec": {
   "display_name": "Python 3 (ipykernel)",
   "language": "python",
   "name": "python3"
  },
  "language_info": {
   "codemirror_mode": {
    "name": "ipython",
    "version": 3
   },
   "file_extension": ".py",
   "mimetype": "text/x-python",
   "name": "python",
   "nbconvert_exporter": "python",
   "pygments_lexer": "ipython3",
   "version": "3.12.9"
  }
 },
 "nbformat": 4,
 "nbformat_minor": 5
}
